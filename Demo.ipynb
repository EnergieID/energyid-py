{
 "cells": [
  {
   "cell_type": "code",
   "execution_count": 136,
   "metadata": {},
   "outputs": [],
   "source": [
    "import json\n",
    "import pandas as pd\n",
    "from energyid import JSONClient\n",
    "from datetime import datetime"
   ]
  },
  {
   "cell_type": "markdown",
   "metadata": {},
   "source": [
    "example json\n",
    "```json\n",
    "{\n",
    "  \"EnergyID_CLIENTID\": \"ID\",\n",
    "  \"EnergyID_CLIENTSECRET\": \"SECRET\",\n",
    "  \"EnergyID_USERNAME\": \"USERNAME\",\n",
    "  \"EnergyID_PASSWORD\": \"PASSWORD\",\n",
    "  \"RECORDS\": {\n",
    "    \"RECORD_1\": \"EA-NUMBER\"\n",
    "  }\n",
    "}\n",
    "\n",
    "```"
   ]
  },
  {
   "cell_type": "code",
   "execution_count": 137,
   "metadata": {},
   "outputs": [],
   "source": [
    "# Load credentials (clientID, clientSecret, username, password) from json file\n",
    "with open(\"secrets.json\") as f:\n",
    "    credentials = json.load(f)"
   ]
  },
  {
   "cell_type": "code",
   "execution_count": 138,
   "metadata": {},
   "outputs": [],
   "source": [
    "# Create Client and init with client id and client secret\n",
    "\n",
    "client = JSONClient(\n",
    "    client_id=credentials[\"EnergyID_CLIENTID\"],\n",
    "    client_secret=credentials[\"EnergyID_CLIENTSECRET\"],\n",
    ")"
   ]
  },
  {
   "cell_type": "code",
   "execution_count": 139,
   "metadata": {},
   "outputs": [],
   "source": [
    "# Login with username (email) and password\n",
    "\n",
    "client.authenticate(\n",
    "    username=credentials[\"EnergyID_USERNAME\"], password=credentials[\"EnergyID_PASSWORD\"]\n",
    ")"
   ]
  },
  {
   "cell_type": "code",
   "execution_count": null,
   "metadata": {},
   "outputs": [],
   "source": [
    "# Download a members info\n",
    "# default member is ME\n",
    "\n",
    "member = client.get_member()\n",
    "member"
   ]
  },
  {
   "cell_type": "code",
   "execution_count": null,
   "metadata": {},
   "outputs": [],
   "source": [
    "# Get all records for the member\n",
    "\n",
    "records = member.get_records()\n",
    "pd.DataFrame(records)"
   ]
  },
  {
   "cell_type": "code",
   "execution_count": null,
   "metadata": {},
   "outputs": [],
   "source": [
    "# Select the first record\n",
    "\n",
    "record = records[0]\n",
    "pd.Series(record)"
   ]
  },
  {
   "cell_type": "code",
   "execution_count": null,
   "metadata": {},
   "outputs": [],
   "source": [
    "# Get Energy Use data for the record\n",
    "\n",
    "record.get_data(start=\"2023-01-01\", end=\"2023-12-31\", name=\"energyUse\")\n",
    "pd.Series(record)  # ['address']"
   ]
  },
  {
   "cell_type": "code",
   "execution_count": null,
   "metadata": {},
   "outputs": [],
   "source": [
    "energy_use = record.get_data(\n",
    "    name=\"energyUse\",\n",
    "    start=\"2023-01-01\",\n",
    "    end=\"2024-01-01\",\n",
    "    interval=\"PT15M\",\n",
    "    filter=\"electric\",\n",
    "    grouping=\"\",\n",
    ")\n",
    "energy_use"
   ]
  },
  {
   "cell_type": "markdown",
   "metadata": {},
   "source": [
    "## select second users data (admin)"
   ]
  },
  {
   "cell_type": "code",
   "execution_count": null,
   "metadata": {},
   "outputs": [],
   "source": [
    "record2 = client.get_record(credentials[\"PRIVATE_EAN\"])\n",
    "energy_use2 = record2.get_data(\n",
    "    name=\"energyUse\",\n",
    "    start=\"2023-01-01\",\n",
    "    end=\"2024-01-01\",\n",
    "    interval=\"PT15M\",\n",
    "    filter=\"electric\",\n",
    ")\n",
    "energy_use2"
   ]
  },
  {
   "cell_type": "markdown",
   "metadata": {},
   "source": [
    "### Quick examplary analysis"
   ]
  },
  {
   "cell_type": "code",
   "execution_count": 146,
   "metadata": {},
   "outputs": [
    {
     "data": {
      "text/plain": [
       "2023-01-01 00:00:00+01:00    0.025\n",
       "2023-01-01 00:15:00+01:00    0.017\n",
       "2023-01-01 00:30:00+01:00    0.023\n",
       "2023-01-01 00:45:00+01:00    0.024\n",
       "2023-01-01 01:00:00+01:00    0.023\n",
       "                             ...  \n",
       "2023-12-31 22:45:00+01:00    0.024\n",
       "2023-12-31 23:00:00+01:00    0.022\n",
       "2023-12-31 23:15:00+01:00    0.046\n",
       "2023-12-31 23:30:00+01:00    0.035\n",
       "2023-12-31 23:45:00+01:00    0.027\n",
       "Length: 35040, dtype: float64"
      ]
     },
     "metadata": {},
     "output_type": "display_data"
    }
   ],
   "source": [
    "timestamps = [entry[\"timestamp\"] for entry in energy_use2[\"value\"][0][\"data\"]]\n",
    "totals = [entry[\"total\"] for entry in energy_use2[\"value\"][0][\"data\"]]\n",
    "\n",
    "datetime_timestamps = [datetime.fromisoformat(ts) for ts in timestamps]\n",
    "\n",
    "energy_series = pd.Series(totals, index=datetime_timestamps)\n",
    "display(energy_series)"
   ]
  },
  {
   "cell_type": "code",
   "execution_count": 147,
   "metadata": {},
   "outputs": [],
   "source": [
    "# save the series to a json file\n",
    "energy_series.to_json(\"energy_series.json\")"
   ]
  },
  {
   "cell_type": "code",
   "execution_count": 148,
   "metadata": {},
   "outputs": [
    {
     "data": {
      "image/png": "[encoded data removed]",
      "text/plain": [
       "<Figure size 640x480 with 1 Axes>"
      ]
     },
     "metadata": {},
     "output_type": "display_data"
    }
   ],
   "source": [
    "# Plot a duurcurve of the data\n",
    "import matplotlib.pyplot as plt\n",
    "\n",
    "plt.plot(energy_series.sort_values().reset_index(drop=True))\n",
    "plt.xlabel(\"Time\")\n",
    "plt.ylabel(\"Energy\")\n",
    "plt.title(\"Duurcurve\")\n",
    "plt.show()"
   ]
  }
 ],
 "metadata": {
  "kernelspec": {
   "display_name": "Python 3 (ipykernel)",
   "language": "python",
   "name": "python3"
  },
  "language_info": {
   "codemirror_mode": {
    "name": "ipython",
    "version": 3
   },
   "file_extension": ".py",
   "mimetype": "text/x-python",
   "name": "python",
   "nbconvert_exporter": "python",
   "pygments_lexer": "ipython3",
   "version": "3.11.9"
  }
 },
 "nbformat": 4,
 "nbformat_minor": 2
}
