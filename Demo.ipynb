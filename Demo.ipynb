{
 "cells": [
  {
   "cell_type": "code",
   "execution_count": null,
   "metadata": {},
   "outputs": [],
   "source": [
    "import json\n",
    "import pandas as pd\n",
    "from energyid import JSONClient"
   ]
  },
  {
   "cell_type": "markdown",
   "metadata": {},
   "source": [
    "example json\n",
    "```json\n",
    "{\n",
    "  \"EnergyID_CLIENTID\": \"ID\",\n",
    "  \"EnergyID_CLIENTSECRET\": \"SECRET\",\n",
    "  \"EnergyID_USERNAME\": \"USERNAME\",\n",
    "  \"EnergyID_PASSWORD\": \"PASSWORD\",\n",
    "  \"RECORDS\": {\n",
    "    \"RECORD_1\": \"EA-NUMBER\"\n",
    "  }\n",
    "}\n",
    "\n",
    "with open(\"credentials.yaml\", \"r\") as f:\n",
    "    credentials = yaml.safe_load(f)"
   ]
  },
  {
   "cell_type": "code",
   "execution_count": null,
   "metadata": {},
   "outputs": [],
   "source": [
    "# Load credentials (clientID, clientSecret, username, password) from json file\n",
    "with open(\"secrets.json\") as f:\n",
    "    credentials = json.load(f)"
   ]
  },
  {
   "cell_type": "code",
   "execution_count": null,
   "metadata": {},
   "outputs": [],
   "source": [
    "# Create Client and init with client id and client secret\n",
    "\n",
    "client = JSONClient(\n",
    "    client_id=credentials[\"client_id\"],\n",
    "    client_secret=credentials[\"client_secret\"],\n",
    ")"
   ]
  },
  {
   "cell_type": "code",
   "execution_count": null,
   "metadata": {},
   "outputs": [],
   "source": [
    "# Login with username (email) and password\n",
    "\n",
    "client.authenticate(\n",
    "    username=credentials[\"username\"], password=credentials[\"password\"]\n",
    ")"
   ]
  },
  {
   "cell_type": "code",
   "execution_count": null,
   "metadata": {},
   "outputs": [],
   "source": [
    "# Download a members info\n",
    "# default member is ME\n",
    "\n",
    "member = client.get_member()\n",
    "member"
   ]
  },
  {
   "cell_type": "code",
   "execution_count": null,
   "metadata": {},
   "outputs": [],
   "source": [
    "# Get all records for the member\n",
    "\n",
    "records = member.get_records()\n",
    "pd.DataFrame(records)"
   ]
  },
  {
   "cell_type": "code",
   "execution_count": null,
   "metadata": {},
   "outputs": [],
   "source": [
    "# Select the first record\n",
    "\n",
    "record = records[0]\n",
    "pd.Series(record)"
   ]
  },
  {
   "cell_type": "code",
   "execution_count": null,
   "metadata": {},
   "outputs": [],
   "source": [
    "# Get Energy Use data for the record\n",
    "\n",
    "record.get_data(name=\"energyUse\", start=\"2023-01-01\", end=\"2023-12-31\")"
   ]
  }
 ],
 "metadata": {
  "kernelspec": {
   "display_name": ".venv",
   "language": "python",
   "name": "python3"
  },
  "language_info": {
   "codemirror_mode": {
    "name": "ipython",
    "version": 3
   },
   "file_extension": ".py",
   "mimetype": "text/x-python",
   "name": "python",
   "nbconvert_exporter": "python",
   "pygments_lexer": "ipython3",
   "version": "3.10.14"
  }
 },
 "nbformat": 4,
 "nbformat_minor": 2
}
