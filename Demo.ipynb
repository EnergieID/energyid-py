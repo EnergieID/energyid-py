{
 "cells": [
  {
   "cell_type": "code",
   "execution_count": 136,
   "metadata": {},
   "outputs": [],
   "source": [
    "import json\n",
    "import pandas as pd\n",
    "from energyid import JSONClient\n",
    "from datetime import datetime"
   ]
  },
  {
   "cell_type": "markdown",
   "metadata": {},
   "source": [
    "example json\n",
    "```json\n",
    "{\n",
    "  \"EnergyID_CLIENTID\": \"ID\",\n",
    "  \"EnergyID_CLIENTSECRET\": \"SECRET\",\n",
    "  \"EnergyID_USERNAME\": \"USERNAME\",\n",
    "  \"EnergyID_PASSWORD\": \"PASSWORD\",\n",
    "  \"RECORDS\": {\n",
    "    \"RECORD_1\": \"EA-NUMBER\"\n",
    "  }\n",
    "}\n",
    "\n",
    "with open(\"credentials.yaml\", \"r\") as f:\n",
    "    credentials = yaml.safe_load(f)"
   ]
  },
  {
   "cell_type": "code",
   "execution_count": 137,
   "metadata": {},
   "outputs": [],
   "source": [
    "# Load credentials (clientID, clientSecret, username, password) from json file\n",
    "with open(\"secrets.json\") as f:\n",
    "    credentials = json.load(f)"
   ]
  },
  {
   "cell_type": "code",
   "execution_count": 138,
   "metadata": {},
   "outputs": [],
   "source": [
    "# Create Client and init with client id and client secret\n",
    "\n",
    "client = JSONClient(\n",
    "    client_id=credentials[\"client_id\"], client_secret=credentials[\"client_secret\"]\n",
    ")"
   ]
  },
  {
   "cell_type": "code",
   "execution_count": 139,
   "metadata": {},
   "outputs": [],
   "source": [
    "# Login with username (email) and password\n",
    "\n",
    "client.authenticate(username=credentials[\"username\"], password=credentials[\"password\"])"
   ]
  },
  {
   "cell_type": "code",
   "execution_count": null,
   "metadata": {},
   "outputs": [],
   "source": [
    "# Download a members info\n",
    "# default member is ME\n",
    "\n",
    "member = client.get_member()\n",
    "member"
   ]
  },
  {
   "cell_type": "code",
   "execution_count": null,
   "metadata": {},
   "outputs": [],
   "source": [
    "# Get all records for the member\n",
    "\n",
    "records = member.get_records()\n",
    "pd.DataFrame(records)"
   ]
  },
  {
   "cell_type": "code",
   "execution_count": null,
   "metadata": {},
   "outputs": [],
   "source": [
    "# Select the first record\n",
    "\n",
    "record = records[0]\n",
    "pd.Series(record)"
   ]
  },
  {
   "cell_type": "code",
   "execution_count": null,
   "metadata": {},
   "outputs": [],
   "source": [
    "# Get Energy Use data for the record\n",
    "\n",
    "record.get_data(name=\"energyUse\")"
   ]
  }
 ],
 "metadata": {
  "kernelspec": {
   "display_name": "Python 3 (ipykernel)",
   "language": "python",
   "name": "python3"
  },
  "language_info": {
   "codemirror_mode": {
    "name": "ipython",
    "version": 3
   },
   "file_extension": ".py",
   "mimetype": "text/x-python",
   "name": "python",
   "nbconvert_exporter": "python",
   "pygments_lexer": "ipython3",
   "version": "3.11.9"
  }
 },
 "nbformat": 4,
 "nbformat_minor": 2
}
